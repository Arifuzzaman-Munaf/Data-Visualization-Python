{
  "nbformat": 4,
  "nbformat_minor": 0,
  "metadata": {
    "colab": {
      "provenance": [],
      "toc_visible": true,
      "authorship_tag": "ABX9TyNqiVtYNsyFCe37V7FMSM9O"
    },
    "kernelspec": {
      "name": "python3",
      "display_name": "Python 3"
    },
    "language_info": {
      "name": "python"
    }
  },
  "cells": [
    {
      "cell_type": "markdown",
      "source": [
        "# What is Count Plot?\n",
        "A count plot is a type of bar chart that displays the frequency (or count) of observations in each category of a categorical variable. It's a great way to visualize the distribution of data across different categories.<br>\n",
        "Count plots help you quickly understand the distribution of categorical data. They show how many data points belong to each category, making it easy to compare the frequencies of different categories.\n"
      ],
      "metadata": {
        "id": "_iMyZKfSklzI"
      }
    },
    {
      "cell_type": "markdown",
      "source": [
        "# Use Cases\n",
        "* When you want to visualize the distribution of a categorical variable.\n",
        "* When you need to compare the frequencies of different categories.\n",
        "* When you want a simple and intuitive way to understand the distribution of your data.\n",
        "\n",
        "In the first portion of the lab, we will focus on several real life examples on how to use count plots using a real world dataset. We will also experiment with difference attributes of count plot for better visualization."
      ],
      "metadata": {
        "id": "Z1zfHNsflSJ_"
      }
    },
    {
      "cell_type": "markdown",
      "source": [
        "# Install dependencies and import libraries"
      ],
      "metadata": {
        "id": "W3GEyqS2lx8o"
      }
    },
    {
      "cell_type": "code",
      "source": [
        "!pip install pandas numpy matplotlib seaborn | grep -v \"Requirement already satisfied\""
      ],
      "metadata": {
        "id": "xt9DCGGloGon"
      },
      "execution_count": 19,
      "outputs": []
    },
    {
      "cell_type": "code",
      "source": [
        "import pandas as pd\n",
        "import numpy as np\n",
        "import matplotlib.pyplot as plt\n",
        "import seaborn as sns\n",
        "plt.style.use('ggplot')\n",
        "%matplotlib inline"
      ],
      "metadata": {
        "id": "U0dYZ3IHq4yJ"
      },
      "execution_count": 20,
      "outputs": []
    },
    {
      "cell_type": "code",
      "source": [
        "import warnings\n",
        "warnings.filterwarnings('ignore')"
      ],
      "metadata": {
        "id": "F1D-MnfTq_er"
      },
      "execution_count": 21,
      "outputs": []
    },
    {
      "cell_type": "markdown",
      "source": [
        "The warnings library in Python provides a way to control the display of warning messages. By using ***`filterwarnings('ignore')`***, you essentially tell Python to ignore all warning messages."
      ],
      "metadata": {
        "id": "0eyY8IPiqsUr"
      }
    },
    {
      "cell_type": "markdown",
      "source": [
        "# Dataset : 2024 Fortune 1000 Companies\n",
        "The dataset \"2024 Fortune 1000 Companies\" contains information about the top 1000 companies in the US, ranked by revenue, as of 2024. It includes various attributes like rank, company name, revenue, profits, assets, market value, employees, previous rank, CEO, industry, sector, city, state, website, years on list, and profitability. This dataset provides a snapshot of the performance and financial standing of major companies in the US. You can find the dataset on [Kaggle](https://www.kaggle.com/datasets/jeannicolasduval/2024-fortune-1000-companies)"
      ],
      "metadata": {
        "id": "BSKWDkgFrIbR"
      }
    },
    {
      "cell_type": "markdown",
      "source": [
        "# # (Optional) Load Dataset From Kaggle\n",
        "\n",
        "---\n",
        "\n",
        "\n",
        "\n",
        "> ***You can avoid this section if you want to download dataset directly from kaggle website.***\n",
        "\n",
        "You can check the below link for better understanding on how to load dataset from Kaggle : https://www.analyticsvidhya.com/blog/2021/06/how-to-load-kaggle-datasets-directly-into-google-colab/\n"
      ],
      "metadata": {
        "id": "_vUJKxAF3FPR"
      }
    },
    {
      "cell_type": "code",
      "source": [
        "# Install the kaggle library to download datasets\n",
        "!pip install -q kaggle  # Installs the kaggle library using pip\n",
        "\n",
        "# Create a directory to store Kaggle API credentials\n",
        "!mkdir ~/.kaggle  # Creates a hidden directory named '.kaggle' in the user's home directory\n",
        "\n",
        "# Copy the Kaggle API credentials file to the appropriate location\n",
        "!cp kaggle.json ~/.kaggle/  # Copies the 'kaggle.json' file to the '.kaggle' directory\n",
        "\n",
        "# Set the permissions of the Kaggle API credentials file\n",
        "!chmod 600 ~/.kaggle/kaggle.json  # Changes the permissions of 'kaggle.json' to read and write for the owner only\n",
        "\n",
        "# Download the 2024 Fortune 1000 Companies from Kaggle\n",
        "!kaggle datasets download --force jeannicolasduval/2024-fortune-1000-companies  # Download the dataset via Kaggle API\n",
        "\n",
        "# Unzip the downloaded dataset file\n",
        "!unzip -o 2024-fortune-1000-companies.zip # Extracts the contents of the downloaded zip file"
      ],
      "metadata": {
        "colab": {
          "base_uri": "https://localhost:8080/"
        },
        "id": "-X36qT1l3a4X",
        "outputId": "bd0fd863-462d-4787-fed9-3356f7e10daf"
      },
      "execution_count": 22,
      "outputs": [
        {
          "output_type": "stream",
          "name": "stdout",
          "text": [
            "mkdir: cannot create directory ‘/root/.kaggle’: File exists\n",
            "Dataset URL: https://www.kaggle.com/datasets/jeannicolasduval/2024-fortune-1000-companies\n",
            "License(s): other\n",
            "Downloading 2024-fortune-1000-companies.zip to /content\n",
            "  0% 0.00/301k [00:00<?, ?B/s]\n",
            "100% 301k/301k [00:00<00:00, 189MB/s]\n",
            "Archive:  2024-fortune-1000-companies.zip\n",
            "  inflating: fortune1000_2024.csv    \n",
            "  inflating: fortune1000_2024.parquet  \n",
            "  inflating: fortune1000_companies.parquet  \n",
            "  inflating: fortune1000_companyinfo.parquet  \n"
          ]
        }
      ]
    },
    {
      "cell_type": "code",
      "source": [
        "dataset = pd.read_csv('/content/fortune1000_2024.csv')\n",
        "dataset.head()"
      ],
      "metadata": {
        "colab": {
          "base_uri": "https://localhost:8080/",
          "height": 576
        },
        "id": "mgE2PP_lGIFM",
        "outputId": "6f3a759b-74aa-4433-cae5-9caf806f4647"
      },
      "execution_count": 24,
      "outputs": [
        {
          "output_type": "execute_result",
          "data": {
            "text/plain": [
              "   Rank             Company Ticker       Sector  \\\n",
              "0     1             Walmart    WMT    Retailing   \n",
              "1     2              Amazon   AMZN    Retailing   \n",
              "2     3               Apple   AAPL   Technology   \n",
              "3     4  UnitedHealth Group    UNH  Health Care   \n",
              "4     5  Berkshire Hathaway   BRKA   Financials   \n",
              "\n",
              "                                   Industry Profitable Founder_is_CEO  \\\n",
              "0                     General Merchandisers        yes             no   \n",
              "1           Internet Services and Retailing        yes             no   \n",
              "2               Computers, Office Equipment        yes             no   \n",
              "3   Health Care: Insurance and Managed Care        yes             no   \n",
              "4  Insurance: Property and Casualty (Stock)        yes             no   \n",
              "\n",
              "  FemaleCEO Growth_in_Jobs  Change_in_Rank  ...   Assets_M  \\\n",
              "0        no             no             0.0  ...   252399.0   \n",
              "1        no             no             0.0  ...   527854.0   \n",
              "2        no             no             1.0  ...   352583.0   \n",
              "3        no            yes             1.0  ...   273720.0   \n",
              "4        no            yes             2.0  ...  1069978.0   \n",
              "\n",
              "                   CEO Country HeadquartersCity HeadquartersState  \\\n",
              "0  C. Douglas McMillon    U.S.      Bentonville          Arkansas   \n",
              "1      Andrew R. Jassy    U.S.          Seattle        Washington   \n",
              "2      Timothy D. Cook    U.S.        Cupertino        California   \n",
              "3      Andrew P. Witty    U.S.       Minnetonka         Minnesota   \n",
              "4    Warren E. Buffett    U.S.            Omaha          Nebraska   \n",
              "\n",
              "                             Website  CompanyType  \\\n",
              "0      https://www.stock.walmart.com       Public   \n",
              "1             https://www.amazon.com       Public   \n",
              "2              https://www.apple.com       Public   \n",
              "3  https://www.unitedhealthgroup.com       Public   \n",
              "4  https://www.berkshirehathaway.com       Public   \n",
              "\n",
              "                                            Footnote  MarketCap_Updated_M  \\\n",
              "0  Figures are for fiscal year ended Jan. 31, 202...             559911.0   \n",
              "1                  Market value as of July 15, 2024.            2005565.0   \n",
              "2  Figures are for fiscal year ended Sept. 30, 20...            3594309.0   \n",
              "3                  Market value as of July 15, 2024.             474339.0   \n",
              "4                  Market value as of July 15, 2024.             937028.0   \n",
              "\n",
              "      Updated  \n",
              "0  2024-08-05  \n",
              "1  2024-08-05  \n",
              "2  2024-08-05  \n",
              "3  2024-08-05  \n",
              "4  2024-08-05  \n",
              "\n",
              "[5 rows x 32 columns]"
            ],
            "text/html": [
              "\n",
              "  <div id=\"df-bebffa62-90db-4c34-912b-155ffaa8801e\" class=\"colab-df-container\">\n",
              "    <div>\n",
              "<style scoped>\n",
              "    .dataframe tbody tr th:only-of-type {\n",
              "        vertical-align: middle;\n",
              "    }\n",
              "\n",
              "    .dataframe tbody tr th {\n",
              "        vertical-align: top;\n",
              "    }\n",
              "\n",
              "    .dataframe thead th {\n",
              "        text-align: right;\n",
              "    }\n",
              "</style>\n",
              "<table border=\"1\" class=\"dataframe\">\n",
              "  <thead>\n",
              "    <tr style=\"text-align: right;\">\n",
              "      <th></th>\n",
              "      <th>Rank</th>\n",
              "      <th>Company</th>\n",
              "      <th>Ticker</th>\n",
              "      <th>Sector</th>\n",
              "      <th>Industry</th>\n",
              "      <th>Profitable</th>\n",
              "      <th>Founder_is_CEO</th>\n",
              "      <th>FemaleCEO</th>\n",
              "      <th>Growth_in_Jobs</th>\n",
              "      <th>Change_in_Rank</th>\n",
              "      <th>...</th>\n",
              "      <th>Assets_M</th>\n",
              "      <th>CEO</th>\n",
              "      <th>Country</th>\n",
              "      <th>HeadquartersCity</th>\n",
              "      <th>HeadquartersState</th>\n",
              "      <th>Website</th>\n",
              "      <th>CompanyType</th>\n",
              "      <th>Footnote</th>\n",
              "      <th>MarketCap_Updated_M</th>\n",
              "      <th>Updated</th>\n",
              "    </tr>\n",
              "  </thead>\n",
              "  <tbody>\n",
              "    <tr>\n",
              "      <th>0</th>\n",
              "      <td>1</td>\n",
              "      <td>Walmart</td>\n",
              "      <td>WMT</td>\n",
              "      <td>Retailing</td>\n",
              "      <td>General Merchandisers</td>\n",
              "      <td>yes</td>\n",
              "      <td>no</td>\n",
              "      <td>no</td>\n",
              "      <td>no</td>\n",
              "      <td>0.0</td>\n",
              "      <td>...</td>\n",
              "      <td>252399.0</td>\n",
              "      <td>C. Douglas McMillon</td>\n",
              "      <td>U.S.</td>\n",
              "      <td>Bentonville</td>\n",
              "      <td>Arkansas</td>\n",
              "      <td>https://www.stock.walmart.com</td>\n",
              "      <td>Public</td>\n",
              "      <td>Figures are for fiscal year ended Jan. 31, 202...</td>\n",
              "      <td>559911.0</td>\n",
              "      <td>2024-08-05</td>\n",
              "    </tr>\n",
              "    <tr>\n",
              "      <th>1</th>\n",
              "      <td>2</td>\n",
              "      <td>Amazon</td>\n",
              "      <td>AMZN</td>\n",
              "      <td>Retailing</td>\n",
              "      <td>Internet Services and Retailing</td>\n",
              "      <td>yes</td>\n",
              "      <td>no</td>\n",
              "      <td>no</td>\n",
              "      <td>no</td>\n",
              "      <td>0.0</td>\n",
              "      <td>...</td>\n",
              "      <td>527854.0</td>\n",
              "      <td>Andrew R. Jassy</td>\n",
              "      <td>U.S.</td>\n",
              "      <td>Seattle</td>\n",
              "      <td>Washington</td>\n",
              "      <td>https://www.amazon.com</td>\n",
              "      <td>Public</td>\n",
              "      <td>Market value as of July 15, 2024.</td>\n",
              "      <td>2005565.0</td>\n",
              "      <td>2024-08-05</td>\n",
              "    </tr>\n",
              "    <tr>\n",
              "      <th>2</th>\n",
              "      <td>3</td>\n",
              "      <td>Apple</td>\n",
              "      <td>AAPL</td>\n",
              "      <td>Technology</td>\n",
              "      <td>Computers, Office Equipment</td>\n",
              "      <td>yes</td>\n",
              "      <td>no</td>\n",
              "      <td>no</td>\n",
              "      <td>no</td>\n",
              "      <td>1.0</td>\n",
              "      <td>...</td>\n",
              "      <td>352583.0</td>\n",
              "      <td>Timothy D. Cook</td>\n",
              "      <td>U.S.</td>\n",
              "      <td>Cupertino</td>\n",
              "      <td>California</td>\n",
              "      <td>https://www.apple.com</td>\n",
              "      <td>Public</td>\n",
              "      <td>Figures are for fiscal year ended Sept. 30, 20...</td>\n",
              "      <td>3594309.0</td>\n",
              "      <td>2024-08-05</td>\n",
              "    </tr>\n",
              "    <tr>\n",
              "      <th>3</th>\n",
              "      <td>4</td>\n",
              "      <td>UnitedHealth Group</td>\n",
              "      <td>UNH</td>\n",
              "      <td>Health Care</td>\n",
              "      <td>Health Care: Insurance and Managed Care</td>\n",
              "      <td>yes</td>\n",
              "      <td>no</td>\n",
              "      <td>no</td>\n",
              "      <td>yes</td>\n",
              "      <td>1.0</td>\n",
              "      <td>...</td>\n",
              "      <td>273720.0</td>\n",
              "      <td>Andrew P. Witty</td>\n",
              "      <td>U.S.</td>\n",
              "      <td>Minnetonka</td>\n",
              "      <td>Minnesota</td>\n",
              "      <td>https://www.unitedhealthgroup.com</td>\n",
              "      <td>Public</td>\n",
              "      <td>Market value as of July 15, 2024.</td>\n",
              "      <td>474339.0</td>\n",
              "      <td>2024-08-05</td>\n",
              "    </tr>\n",
              "    <tr>\n",
              "      <th>4</th>\n",
              "      <td>5</td>\n",
              "      <td>Berkshire Hathaway</td>\n",
              "      <td>BRKA</td>\n",
              "      <td>Financials</td>\n",
              "      <td>Insurance: Property and Casualty (Stock)</td>\n",
              "      <td>yes</td>\n",
              "      <td>no</td>\n",
              "      <td>no</td>\n",
              "      <td>yes</td>\n",
              "      <td>2.0</td>\n",
              "      <td>...</td>\n",
              "      <td>1069978.0</td>\n",
              "      <td>Warren E. Buffett</td>\n",
              "      <td>U.S.</td>\n",
              "      <td>Omaha</td>\n",
              "      <td>Nebraska</td>\n",
              "      <td>https://www.berkshirehathaway.com</td>\n",
              "      <td>Public</td>\n",
              "      <td>Market value as of July 15, 2024.</td>\n",
              "      <td>937028.0</td>\n",
              "      <td>2024-08-05</td>\n",
              "    </tr>\n",
              "  </tbody>\n",
              "</table>\n",
              "<p>5 rows × 32 columns</p>\n",
              "</div>\n",
              "    <div class=\"colab-df-buttons\">\n",
              "\n",
              "  <div class=\"colab-df-container\">\n",
              "    <button class=\"colab-df-convert\" onclick=\"convertToInteractive('df-bebffa62-90db-4c34-912b-155ffaa8801e')\"\n",
              "            title=\"Convert this dataframe to an interactive table.\"\n",
              "            style=\"display:none;\">\n",
              "\n",
              "  <svg xmlns=\"http://www.w3.org/2000/svg\" height=\"24px\" viewBox=\"0 -960 960 960\">\n",
              "    <path d=\"M120-120v-720h720v720H120Zm60-500h600v-160H180v160Zm220 220h160v-160H400v160Zm0 220h160v-160H400v160ZM180-400h160v-160H180v160Zm440 0h160v-160H620v160ZM180-180h160v-160H180v160Zm440 0h160v-160H620v160Z\"/>\n",
              "  </svg>\n",
              "    </button>\n",
              "\n",
              "  <style>\n",
              "    .colab-df-container {\n",
              "      display:flex;\n",
              "      gap: 12px;\n",
              "    }\n",
              "\n",
              "    .colab-df-convert {\n",
              "      background-color: #E8F0FE;\n",
              "      border: none;\n",
              "      border-radius: 50%;\n",
              "      cursor: pointer;\n",
              "      display: none;\n",
              "      fill: #1967D2;\n",
              "      height: 32px;\n",
              "      padding: 0 0 0 0;\n",
              "      width: 32px;\n",
              "    }\n",
              "\n",
              "    .colab-df-convert:hover {\n",
              "      background-color: #E2EBFA;\n",
              "      box-shadow: 0px 1px 2px rgba(60, 64, 67, 0.3), 0px 1px 3px 1px rgba(60, 64, 67, 0.15);\n",
              "      fill: #174EA6;\n",
              "    }\n",
              "\n",
              "    .colab-df-buttons div {\n",
              "      margin-bottom: 4px;\n",
              "    }\n",
              "\n",
              "    [theme=dark] .colab-df-convert {\n",
              "      background-color: #3B4455;\n",
              "      fill: #D2E3FC;\n",
              "    }\n",
              "\n",
              "    [theme=dark] .colab-df-convert:hover {\n",
              "      background-color: #434B5C;\n",
              "      box-shadow: 0px 1px 3px 1px rgba(0, 0, 0, 0.15);\n",
              "      filter: drop-shadow(0px 1px 2px rgba(0, 0, 0, 0.3));\n",
              "      fill: #FFFFFF;\n",
              "    }\n",
              "  </style>\n",
              "\n",
              "    <script>\n",
              "      const buttonEl =\n",
              "        document.querySelector('#df-bebffa62-90db-4c34-912b-155ffaa8801e button.colab-df-convert');\n",
              "      buttonEl.style.display =\n",
              "        google.colab.kernel.accessAllowed ? 'block' : 'none';\n",
              "\n",
              "      async function convertToInteractive(key) {\n",
              "        const element = document.querySelector('#df-bebffa62-90db-4c34-912b-155ffaa8801e');\n",
              "        const dataTable =\n",
              "          await google.colab.kernel.invokeFunction('convertToInteractive',\n",
              "                                                    [key], {});\n",
              "        if (!dataTable) return;\n",
              "\n",
              "        const docLinkHtml = 'Like what you see? Visit the ' +\n",
              "          '<a target=\"_blank\" href=https://colab.research.google.com/notebooks/data_table.ipynb>data table notebook</a>'\n",
              "          + ' to learn more about interactive tables.';\n",
              "        element.innerHTML = '';\n",
              "        dataTable['output_type'] = 'display_data';\n",
              "        await google.colab.output.renderOutput(dataTable, element);\n",
              "        const docLink = document.createElement('div');\n",
              "        docLink.innerHTML = docLinkHtml;\n",
              "        element.appendChild(docLink);\n",
              "      }\n",
              "    </script>\n",
              "  </div>\n",
              "\n",
              "\n",
              "<div id=\"df-2ed8e728-042e-4e75-87bc-e5f202f2bb9e\">\n",
              "  <button class=\"colab-df-quickchart\" onclick=\"quickchart('df-2ed8e728-042e-4e75-87bc-e5f202f2bb9e')\"\n",
              "            title=\"Suggest charts\"\n",
              "            style=\"display:none;\">\n",
              "\n",
              "<svg xmlns=\"http://www.w3.org/2000/svg\" height=\"24px\"viewBox=\"0 0 24 24\"\n",
              "     width=\"24px\">\n",
              "    <g>\n",
              "        <path d=\"M19 3H5c-1.1 0-2 .9-2 2v14c0 1.1.9 2 2 2h14c1.1 0 2-.9 2-2V5c0-1.1-.9-2-2-2zM9 17H7v-7h2v7zm4 0h-2V7h2v10zm4 0h-2v-4h2v4z\"/>\n",
              "    </g>\n",
              "</svg>\n",
              "  </button>\n",
              "\n",
              "<style>\n",
              "  .colab-df-quickchart {\n",
              "      --bg-color: #E8F0FE;\n",
              "      --fill-color: #1967D2;\n",
              "      --hover-bg-color: #E2EBFA;\n",
              "      --hover-fill-color: #174EA6;\n",
              "      --disabled-fill-color: #AAA;\n",
              "      --disabled-bg-color: #DDD;\n",
              "  }\n",
              "\n",
              "  [theme=dark] .colab-df-quickchart {\n",
              "      --bg-color: #3B4455;\n",
              "      --fill-color: #D2E3FC;\n",
              "      --hover-bg-color: #434B5C;\n",
              "      --hover-fill-color: #FFFFFF;\n",
              "      --disabled-bg-color: #3B4455;\n",
              "      --disabled-fill-color: #666;\n",
              "  }\n",
              "\n",
              "  .colab-df-quickchart {\n",
              "    background-color: var(--bg-color);\n",
              "    border: none;\n",
              "    border-radius: 50%;\n",
              "    cursor: pointer;\n",
              "    display: none;\n",
              "    fill: var(--fill-color);\n",
              "    height: 32px;\n",
              "    padding: 0;\n",
              "    width: 32px;\n",
              "  }\n",
              "\n",
              "  .colab-df-quickchart:hover {\n",
              "    background-color: var(--hover-bg-color);\n",
              "    box-shadow: 0 1px 2px rgba(60, 64, 67, 0.3), 0 1px 3px 1px rgba(60, 64, 67, 0.15);\n",
              "    fill: var(--button-hover-fill-color);\n",
              "  }\n",
              "\n",
              "  .colab-df-quickchart-complete:disabled,\n",
              "  .colab-df-quickchart-complete:disabled:hover {\n",
              "    background-color: var(--disabled-bg-color);\n",
              "    fill: var(--disabled-fill-color);\n",
              "    box-shadow: none;\n",
              "  }\n",
              "\n",
              "  .colab-df-spinner {\n",
              "    border: 2px solid var(--fill-color);\n",
              "    border-color: transparent;\n",
              "    border-bottom-color: var(--fill-color);\n",
              "    animation:\n",
              "      spin 1s steps(1) infinite;\n",
              "  }\n",
              "\n",
              "  @keyframes spin {\n",
              "    0% {\n",
              "      border-color: transparent;\n",
              "      border-bottom-color: var(--fill-color);\n",
              "      border-left-color: var(--fill-color);\n",
              "    }\n",
              "    20% {\n",
              "      border-color: transparent;\n",
              "      border-left-color: var(--fill-color);\n",
              "      border-top-color: var(--fill-color);\n",
              "    }\n",
              "    30% {\n",
              "      border-color: transparent;\n",
              "      border-left-color: var(--fill-color);\n",
              "      border-top-color: var(--fill-color);\n",
              "      border-right-color: var(--fill-color);\n",
              "    }\n",
              "    40% {\n",
              "      border-color: transparent;\n",
              "      border-right-color: var(--fill-color);\n",
              "      border-top-color: var(--fill-color);\n",
              "    }\n",
              "    60% {\n",
              "      border-color: transparent;\n",
              "      border-right-color: var(--fill-color);\n",
              "    }\n",
              "    80% {\n",
              "      border-color: transparent;\n",
              "      border-right-color: var(--fill-color);\n",
              "      border-bottom-color: var(--fill-color);\n",
              "    }\n",
              "    90% {\n",
              "      border-color: transparent;\n",
              "      border-bottom-color: var(--fill-color);\n",
              "    }\n",
              "  }\n",
              "</style>\n",
              "\n",
              "  <script>\n",
              "    async function quickchart(key) {\n",
              "      const quickchartButtonEl =\n",
              "        document.querySelector('#' + key + ' button');\n",
              "      quickchartButtonEl.disabled = true;  // To prevent multiple clicks.\n",
              "      quickchartButtonEl.classList.add('colab-df-spinner');\n",
              "      try {\n",
              "        const charts = await google.colab.kernel.invokeFunction(\n",
              "            'suggestCharts', [key], {});\n",
              "      } catch (error) {\n",
              "        console.error('Error during call to suggestCharts:', error);\n",
              "      }\n",
              "      quickchartButtonEl.classList.remove('colab-df-spinner');\n",
              "      quickchartButtonEl.classList.add('colab-df-quickchart-complete');\n",
              "    }\n",
              "    (() => {\n",
              "      let quickchartButtonEl =\n",
              "        document.querySelector('#df-2ed8e728-042e-4e75-87bc-e5f202f2bb9e button');\n",
              "      quickchartButtonEl.style.display =\n",
              "        google.colab.kernel.accessAllowed ? 'block' : 'none';\n",
              "    })();\n",
              "  </script>\n",
              "</div>\n",
              "\n",
              "    </div>\n",
              "  </div>\n"
            ],
            "application/vnd.google.colaboratory.intrinsic+json": {
              "type": "dataframe",
              "variable_name": "dataset"
            }
          },
          "metadata": {},
          "execution_count": 24
        }
      ]
    },
    {
      "cell_type": "markdown",
      "source": [
        "# Exploring and Analyzing the Dataset"
      ],
      "metadata": {
        "id": "eOODKaDIGji2"
      }
    },
    {
      "cell_type": "code",
      "source": [
        "dataset.info()"
      ],
      "metadata": {
        "colab": {
          "base_uri": "https://localhost:8080/"
        },
        "id": "-Ste4DfiGlr2",
        "outputId": "e03d28ec-f2c0-4dc7-ad04-df73a62ba06e"
      },
      "execution_count": 25,
      "outputs": [
        {
          "output_type": "stream",
          "name": "stdout",
          "text": [
            "<class 'pandas.core.frame.DataFrame'>\n",
            "RangeIndex: 1000 entries, 0 to 999\n",
            "Data columns (total 32 columns):\n",
            " #   Column                         Non-Null Count  Dtype  \n",
            "---  ------                         --------------  -----  \n",
            " 0   Rank                           1000 non-null   int64  \n",
            " 1   Company                        1000 non-null   object \n",
            " 2   Ticker                         959 non-null    object \n",
            " 3   Sector                         1000 non-null   object \n",
            " 4   Industry                       1000 non-null   object \n",
            " 5   Profitable                     1000 non-null   object \n",
            " 6   Founder_is_CEO                 1000 non-null   object \n",
            " 7   FemaleCEO                      1000 non-null   object \n",
            " 8   Growth_in_Jobs                 1000 non-null   object \n",
            " 9   Change_in_Rank                 1000 non-null   float64\n",
            " 10  Gained_in_Rank                 1000 non-null   object \n",
            " 11  Dropped_in_Rank                1000 non-null   object \n",
            " 12  Newcomer_to_the_Fortune500     500 non-null    object \n",
            " 13  Global500                      1000 non-null   object \n",
            " 14  Worlds_Most_Admired_Companies  1000 non-null   object \n",
            " 15  Best_Companies_to_Work_For     1000 non-null   object \n",
            " 16  Number_of_employees            1000 non-null   int64  \n",
            " 17  MarketCap_March28_M            959 non-null    float64\n",
            " 18  Revenues_M                     1000 non-null   float64\n",
            " 19  RevenuePercentChange           994 non-null    float64\n",
            " 20  Profits_M                      998 non-null    float64\n",
            " 21  ProfitsPercentChange           850 non-null    float64\n",
            " 22  Assets_M                       1000 non-null   float64\n",
            " 23  CEO                            1000 non-null   object \n",
            " 24  Country                        1000 non-null   object \n",
            " 25  HeadquartersCity               1000 non-null   object \n",
            " 26  HeadquartersState              1000 non-null   object \n",
            " 27  Website                        1000 non-null   object \n",
            " 28  CompanyType                    1000 non-null   object \n",
            " 29  Footnote                       1000 non-null   object \n",
            " 30  MarketCap_Updated_M            963 non-null    float64\n",
            " 31  Updated                        1000 non-null   object \n",
            "dtypes: float64(8), int64(2), object(22)\n",
            "memory usage: 250.1+ KB\n"
          ]
        }
      ]
    },
    {
      "cell_type": "code",
      "source": [
        "# Check for missing values in each column\n",
        "dataset.isnull().sum()"
      ],
      "metadata": {
        "colab": {
          "base_uri": "https://localhost:8080/",
          "height": 1000
        },
        "id": "aNOpKEv6Gv32",
        "outputId": "317f3147-2d8f-46ea-cf75-84e8e89ac078"
      },
      "execution_count": 26,
      "outputs": [
        {
          "output_type": "execute_result",
          "data": {
            "text/plain": [
              "Rank                               0\n",
              "Company                            0\n",
              "Ticker                            41\n",
              "Sector                             0\n",
              "Industry                           0\n",
              "Profitable                         0\n",
              "Founder_is_CEO                     0\n",
              "FemaleCEO                          0\n",
              "Growth_in_Jobs                     0\n",
              "Change_in_Rank                     0\n",
              "Gained_in_Rank                     0\n",
              "Dropped_in_Rank                    0\n",
              "Newcomer_to_the_Fortune500       500\n",
              "Global500                          0\n",
              "Worlds_Most_Admired_Companies      0\n",
              "Best_Companies_to_Work_For         0\n",
              "Number_of_employees                0\n",
              "MarketCap_March28_M               41\n",
              "Revenues_M                         0\n",
              "RevenuePercentChange               6\n",
              "Profits_M                          2\n",
              "ProfitsPercentChange             150\n",
              "Assets_M                           0\n",
              "CEO                                0\n",
              "Country                            0\n",
              "HeadquartersCity                   0\n",
              "HeadquartersState                  0\n",
              "Website                            0\n",
              "CompanyType                        0\n",
              "Footnote                           0\n",
              "MarketCap_Updated_M               37\n",
              "Updated                            0\n",
              "dtype: int64"
            ],
            "text/html": [
              "<div>\n",
              "<style scoped>\n",
              "    .dataframe tbody tr th:only-of-type {\n",
              "        vertical-align: middle;\n",
              "    }\n",
              "\n",
              "    .dataframe tbody tr th {\n",
              "        vertical-align: top;\n",
              "    }\n",
              "\n",
              "    .dataframe thead th {\n",
              "        text-align: right;\n",
              "    }\n",
              "</style>\n",
              "<table border=\"1\" class=\"dataframe\">\n",
              "  <thead>\n",
              "    <tr style=\"text-align: right;\">\n",
              "      <th></th>\n",
              "      <th>0</th>\n",
              "    </tr>\n",
              "  </thead>\n",
              "  <tbody>\n",
              "    <tr>\n",
              "      <th>Rank</th>\n",
              "      <td>0</td>\n",
              "    </tr>\n",
              "    <tr>\n",
              "      <th>Company</th>\n",
              "      <td>0</td>\n",
              "    </tr>\n",
              "    <tr>\n",
              "      <th>Ticker</th>\n",
              "      <td>41</td>\n",
              "    </tr>\n",
              "    <tr>\n",
              "      <th>Sector</th>\n",
              "      <td>0</td>\n",
              "    </tr>\n",
              "    <tr>\n",
              "      <th>Industry</th>\n",
              "      <td>0</td>\n",
              "    </tr>\n",
              "    <tr>\n",
              "      <th>Profitable</th>\n",
              "      <td>0</td>\n",
              "    </tr>\n",
              "    <tr>\n",
              "      <th>Founder_is_CEO</th>\n",
              "      <td>0</td>\n",
              "    </tr>\n",
              "    <tr>\n",
              "      <th>FemaleCEO</th>\n",
              "      <td>0</td>\n",
              "    </tr>\n",
              "    <tr>\n",
              "      <th>Growth_in_Jobs</th>\n",
              "      <td>0</td>\n",
              "    </tr>\n",
              "    <tr>\n",
              "      <th>Change_in_Rank</th>\n",
              "      <td>0</td>\n",
              "    </tr>\n",
              "    <tr>\n",
              "      <th>Gained_in_Rank</th>\n",
              "      <td>0</td>\n",
              "    </tr>\n",
              "    <tr>\n",
              "      <th>Dropped_in_Rank</th>\n",
              "      <td>0</td>\n",
              "    </tr>\n",
              "    <tr>\n",
              "      <th>Newcomer_to_the_Fortune500</th>\n",
              "      <td>500</td>\n",
              "    </tr>\n",
              "    <tr>\n",
              "      <th>Global500</th>\n",
              "      <td>0</td>\n",
              "    </tr>\n",
              "    <tr>\n",
              "      <th>Worlds_Most_Admired_Companies</th>\n",
              "      <td>0</td>\n",
              "    </tr>\n",
              "    <tr>\n",
              "      <th>Best_Companies_to_Work_For</th>\n",
              "      <td>0</td>\n",
              "    </tr>\n",
              "    <tr>\n",
              "      <th>Number_of_employees</th>\n",
              "      <td>0</td>\n",
              "    </tr>\n",
              "    <tr>\n",
              "      <th>MarketCap_March28_M</th>\n",
              "      <td>41</td>\n",
              "    </tr>\n",
              "    <tr>\n",
              "      <th>Revenues_M</th>\n",
              "      <td>0</td>\n",
              "    </tr>\n",
              "    <tr>\n",
              "      <th>RevenuePercentChange</th>\n",
              "      <td>6</td>\n",
              "    </tr>\n",
              "    <tr>\n",
              "      <th>Profits_M</th>\n",
              "      <td>2</td>\n",
              "    </tr>\n",
              "    <tr>\n",
              "      <th>ProfitsPercentChange</th>\n",
              "      <td>150</td>\n",
              "    </tr>\n",
              "    <tr>\n",
              "      <th>Assets_M</th>\n",
              "      <td>0</td>\n",
              "    </tr>\n",
              "    <tr>\n",
              "      <th>CEO</th>\n",
              "      <td>0</td>\n",
              "    </tr>\n",
              "    <tr>\n",
              "      <th>Country</th>\n",
              "      <td>0</td>\n",
              "    </tr>\n",
              "    <tr>\n",
              "      <th>HeadquartersCity</th>\n",
              "      <td>0</td>\n",
              "    </tr>\n",
              "    <tr>\n",
              "      <th>HeadquartersState</th>\n",
              "      <td>0</td>\n",
              "    </tr>\n",
              "    <tr>\n",
              "      <th>Website</th>\n",
              "      <td>0</td>\n",
              "    </tr>\n",
              "    <tr>\n",
              "      <th>CompanyType</th>\n",
              "      <td>0</td>\n",
              "    </tr>\n",
              "    <tr>\n",
              "      <th>Footnote</th>\n",
              "      <td>0</td>\n",
              "    </tr>\n",
              "    <tr>\n",
              "      <th>MarketCap_Updated_M</th>\n",
              "      <td>37</td>\n",
              "    </tr>\n",
              "    <tr>\n",
              "      <th>Updated</th>\n",
              "      <td>0</td>\n",
              "    </tr>\n",
              "  </tbody>\n",
              "</table>\n",
              "</div><br><label><b>dtype:</b> int64</label>"
            ]
          },
          "metadata": {},
          "execution_count": 26
        }
      ]
    },
    {
      "cell_type": "markdown",
      "source": [
        "# Task 1 : Create a count plot for companies based on their sectors.\n",
        "Essentially, you'll create a bar chart where each bar represents a sector and its height indicates the number of companies belonging to that sector, giving you an overview of sector representation in the Fortune 1000 list."
      ],
      "metadata": {
        "id": "uLKpZs74G_K7"
      }
    },
    {
      "cell_type": "code",
      "source": [
        "# Check for unique values\n",
        "dataset['Sector'].unique()"
      ],
      "metadata": {
        "colab": {
          "base_uri": "https://localhost:8080/"
        },
        "id": "qpI8FifpHkcF",
        "outputId": "a018d72b-b202-4be0-837e-1568024a3ae8"
      },
      "execution_count": 31,
      "outputs": [
        {
          "output_type": "execute_result",
          "data": {
            "text/plain": [
              "array(['Retailing', 'Technology', 'Health Care', 'Financials', 'Energy',\n",
              "       'Motor Vehicles & Parts', 'Food & Drug Stores',\n",
              "       'Telecommunications', 'Food, Beverages & Tobacco',\n",
              "       'Transportation', 'Media', 'Household Products',\n",
              "       'Aerospace & Defense', 'Wholesalers', 'Industrials', 'Apparel',\n",
              "       'Chemicals', 'Hotels, Restaurants & Leisure',\n",
              "       'Engineering & Construction', 'Materials', 'Business Services'],\n",
              "      dtype=object)"
            ]
          },
          "metadata": {},
          "execution_count": 31
        }
      ]
    },
    {
      "cell_type": "markdown",
      "source": [
        "So, there are a few number of sectors consisting of two words. We will compress them into single word using the 1st chracter of each word for easily draw the plot."
      ],
      "metadata": {
        "id": "Hjt8ThYWKBBg"
      }
    },
    {
      "cell_type": "code",
      "source": [
        "# Function to combine long sectors\n",
        "def combine_sectors(sector):\n",
        "    words = sector.split()\n",
        "    if len(words) > 1:\n",
        "        new_sector = \"\".join([word[0] for word in words])\n",
        "        return new_sector\n",
        "    else:\n",
        "        return sector\n",
        "\n",
        "# Apply the function to the 'Sector' column\n",
        "dataset['Sector'] = dataset['Sector'].apply(combine_sectors)\n",
        "\n",
        "# Check for unique values again\n",
        "dataset['Sector'].unique()\n"
      ],
      "metadata": {
        "colab": {
          "base_uri": "https://localhost:8080/"
        },
        "id": "l8_h2kRIJ_rC",
        "outputId": "7d7c377e-5aa1-44ff-a465-f51e3da73887"
      },
      "execution_count": 34,
      "outputs": [
        {
          "output_type": "execute_result",
          "data": {
            "text/plain": [
              "array(['Retailing', 'Technology', 'HC', 'Financials', 'Energy', 'MV&P',\n",
              "       'F&DS', 'Telecommunications', 'FB&T', 'Transportation', 'Media',\n",
              "       'HP', 'A&D', 'Wholesalers', 'Industrials', 'Apparel', 'Chemicals',\n",
              "       'HR&L', 'E&C', 'Materials', 'BS'], dtype=object)"
            ]
          },
          "metadata": {},
          "execution_count": 34
        }
      ]
    },
    {
      "cell_type": "code",
      "source": [
        "sns.countplot(x='Sector', data=dataset)\n",
        "plt.xticks(rotation=90)\n",
        "plt.show()"
      ],
      "metadata": {
        "colab": {
          "base_uri": "https://localhost:8080/",
          "height": 581
        },
        "id": "5zLcvO3sJlSv",
        "outputId": "f79553b6-38eb-48c5-d48e-716258ce1a14"
      },
      "execution_count": 35,
      "outputs": [
        {
          "output_type": "display_data",
          "data": {
            "text/plain": [
              "<Figure size 640x480 with 1 Axes>"
            ],
            "image/png": "[encoded data removed]"
          },
          "metadata": {}
        }
      ]
    },
    {
      "cell_type": "markdown",
      "source": [
        "## Key observation from the plot\n",
        "* The horizontal axis lists different sectors (e.g., Financials, Technology, Retailing) and the vertical axis shows how many items (or observations) each sector contains.\n",
        "* Financials stands out as having the highest count, suggesting it dominates in terms of frequency or representation.\n",
        "Technology also shows a relatively large bar, indicating a notably high count in that sector.\n",
        "* Other sectors vary significantly, with some (e.g., Retailing, BS, HC) having moderate counts and several having smaller bars.\n",
        "* Overall, the plot highlights that most items/observations are concentrated in a few key sectors, led by Financials and Technology.\n",
        "\n",
        "**We can do some more enhancement of the plot by adding some attributes as below :**"
      ],
      "metadata": {
        "id": "cNDxIiV7QJqX"
      }
    },
    {
      "source": [
        " # Adjust figure size for better readability\n",
        "plt.figure(figsize=(12, 6))\n",
        "\n",
        "sns.countplot(\n",
        "    x='Sector',\n",
        "    data=dataset,\n",
        "    palette=\"magma\"  # Use a color palette\n",
        "    )\n",
        "\n",
        "# Add a title\n",
        "plt.title(\"Distribution of Companies Across Sectors\", fontsize=16)\n",
        "\n",
        "plt.xlabel(\"Sector\", fontsize=12)  # Customize x-axis label\n",
        "plt.ylabel(\"Number of Companies\", fontsize=12)  # Customize y-axis label\n",
        "\n",
        "#Rotate x-axis labels for better readability\n",
        "plt.xticks(rotation=60, ha=\"right\")\n",
        "\n",
        "\n",
        "plt.tight_layout()  # Adjust layout to prevent overlapping elements\n",
        "plt.show()"
      ],
      "cell_type": "code",
      "metadata": {
        "colab": {
          "base_uri": "https://localhost:8080/",
          "height": 329
        },
        "id": "fpXFMNncNtWz",
        "outputId": "09f48cce-172e-410f-9a8d-38547b936145"
      },
      "execution_count": 51,
      "outputs": [
        {
          "output_type": "display_data",
          "data": {
            "text/plain": [
              "<Figure size 1200x600 with 1 Axes>"
            ],
            "image/png": "[encoded data removed]"
          },
          "metadata": {}
        }
      ]
    },
    {
      "cell_type": "markdown",
      "source": [
        "# Regression Plot\n"
      ],
      "metadata": {
        "id": "PF1Fvs6lTFwh"
      }
    }
  ]
}