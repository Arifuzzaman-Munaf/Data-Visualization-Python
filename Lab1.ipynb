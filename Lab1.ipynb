{
  "nbformat": 4,
  "nbformat_minor": 0,
  "metadata": {
    "colab": {
      "provenance": [],
      "toc_visible": true,
      "include_colab_link": true
    },
    "kernelspec": {
      "name": "python3",
      "display_name": "Python 3"
    },
    "language_info": {
      "name": "python"
    }
  },
  "cells": [
    {
      "cell_type": "markdown",
      "metadata": {
        "id": "view-in-github",
        "colab_type": "text"
      },
      "source": [
        "<a href=\"https://colab.research.google.com/github/Arifuzzaman-Munaf/Data-Visualization-Python/blob/main/Lab1.ipynb\" target=\"_parent\"><img src=\"https://colab.research.google.com/assets/colab-badge.svg\" alt=\"Open In Colab\"/></a>"
      ]
    },
    {
      "cell_type": "code",
      "execution_count": 1,
      "metadata": {
        "id": "Mdom06bafA5T",
        "outputId": "a79fdc92-152e-41dd-e716-6163b05f7bde",
        "colab": {
          "base_uri": "https://localhost:8080/"
        }
      },
      "outputs": [
        {
          "output_type": "stream",
          "name": "stdout",
          "text": [
            "Uryyb, Jbeyq!\n"
          ]
        }
      ],
      "source": [
        "# prompt: print hello world using rot13\n",
        "\n",
        "import codecs\n",
        "\n",
        "def rot13(text):\n",
        "  return codecs.encode(text, 'rot13')\n",
        "\n",
        "print(rot13(\"Hello, World!\"))\n"
      ]
    }
  ]
}