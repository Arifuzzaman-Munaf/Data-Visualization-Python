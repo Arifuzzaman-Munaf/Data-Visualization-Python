{
  "nbformat": 4,
  "nbformat_minor": 0,
  "metadata": {
    "colab": {
      "provenance": [],
      "toc_visible": true,
      "include_colab_link": true
    },
    "kernelspec": {
      "name": "python3",
      "display_name": "Python 3"
    },
    "language_info": {
      "name": "python"
    }
  },
  "cells": [
    {
      "cell_type": "markdown",
      "metadata": {
        "id": "view-in-github",
        "colab_type": "text"
      },
      "source": [
        "<a href=\"https://colab.research.google.com/github/Arifuzzaman-Munaf/Data-Visualization-Python/blob/main/Lab1.ipynb\" target=\"_parent\"><img src=\"https://colab.research.google.com/assets/colab-badge.svg\" alt=\"Open In Colab\"/></a>"
      ]
    },
    {
      "cell_type": "code",
      "execution_count": 1,
      "metadata": {
        "id": "Mdom06bafA5T",
        "colab": {
          "base_uri": "https://localhost:8080/"
        },
        "outputId": "a79fdc92-152e-41dd-e716-6163b05f7bde"
      },
      "outputs": [
        {
          "output_type": "stream",
          "name": "stdout",
          "text": [
            "Uryyb, Jbeyq!\n"
          ]
        }
      ],
      "source": [
        "# prompt: print hello world using rot13\n",
        "\n",
        "import codecs\n",
        "\n",
        "def rot13(text):\n",
        "  return codecs.encode(text, 'rot13')\n",
        "\n",
        "print(rot13(\"Hello, World!\"))\n"
      ]
    },
    {
      "cell_type": "code",
      "source": [
        "# prompt: 10 random numbers using numpy\n",
        "\n",
        "import numpy as np\n",
        "\n",
        "# Generate 10 random numbers between 0 and 1\n",
        "random_numbers = np.random.rand(10)\n",
        "\n",
        "random_numbers\n"
      ],
      "metadata": {
        "id": "DNu1qy49utcU",
        "outputId": "864fbb23-22b6-4a0e-927f-c925b54e1078",
        "colab": {
          "base_uri": "https://localhost:8080/"
        }
      },
      "execution_count": 2,
      "outputs": [
        {
          "output_type": "execute_result",
          "data": {
            "text/plain": [
              "array([0.55486532, 0.61871204, 0.62552184, 0.89156435, 0.37291916,\n",
              "       0.75647317, 0.18406444, 0.25814196, 0.9965851 , 0.67864046])"
            ]
          },
          "metadata": {},
          "execution_count": 2
        }
      ]
    }
  ]
}